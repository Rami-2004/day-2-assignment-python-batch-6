{
 "cells": [
  {
   "cell_type": "markdown",
   "metadata": {},
   "source": []
  },
  {
   "cell_type": "markdown",
   "metadata": {},
   "source": [
    "BACK SLASH TO CONTINUE THE PROGRAMME [ \\ ]:It is used to continue the programme to avoid errors in the output.It also gives an quick indication for the other developers that the code is still continuing in next line.\n",
    "EXAMPLE:-"
   ]
  },
  {
   "cell_type": "code",
   "execution_count": 1,
   "metadata": {},
   "outputs": [
    {
     "ename": "SyntaxError",
     "evalue": "EOL while scanning string literal (<ipython-input-1-6e11db48d1a4>, line 1)",
     "output_type": "error",
     "traceback": [
      "\u001b[1;36m  File \u001b[1;32m\"<ipython-input-1-6e11db48d1a4>\"\u001b[1;36m, line \u001b[1;32m1\u001b[0m\n\u001b[1;33m    print (\"hello\u001b[0m\n\u001b[1;37m                  ^\u001b[0m\n\u001b[1;31mSyntaxError\u001b[0m\u001b[1;31m:\u001b[0m EOL while scanning string literal\n"
     ]
    }
   ],
   "source": [
    "print (\"hello \n",
    "       world\")"
   ]
  },
  {
   "cell_type": "code",
   "execution_count": 2,
   "metadata": {},
   "outputs": [
    {
     "name": "stdout",
     "output_type": "stream",
     "text": [
      "Hello  world\n"
     ]
    }
   ],
   "source": [
    "print(\"Hello  \\\n",
    "world\")"
   ]
  },
  {
   "cell_type": "markdown",
   "metadata": {},
   "source": [
    "BACK SLASH TO ESCAPE { ' or \" }QUOTES [ \\ ]:-It is also used to skip the '''SINGLE QUOTES\"' or '\"DOUBLE QUOTES\"' in some cases of programme if we require to eliminate them.\n",
    "EXAMPLE:-"
   ]
  },
  {
   "cell_type": "code",
   "execution_count": 3,
   "metadata": {},
   "outputs": [
    {
     "name": "stdout",
     "output_type": "stream",
     "text": [
      "Monty python's Flying circus\n",
      "Monty python\"s Flying circus\n",
      "Monty python\"s Flying circus\n"
     ]
    }
   ],
   "source": [
    "print(\"Monty python's Flying circus\")\n",
    "print('Monty python\"s Flying circus')\n",
    "print('Monty python\\\"s Flying circus')\n"
   ]
  },
  {
   "cell_type": "markdown",
   "metadata": {},
   "source": [
    "BACK SLASH TO \"\"JUMP THE OUTPUT IN NEXT LINE\"\"[\\n] :-It is used to create the output in next line which is coded after \\n (\\n can be created very close or can also create with sufficient space based upon our requirement)\n",
    "EXAMPLE:-"
   ]
  },
  {
   "cell_type": "code",
   "execution_count": 4,
   "metadata": {},
   "outputs": [
    {
     "name": "stdout",
     "output_type": "stream",
     "text": [
      "hello world \n",
      "this is     \n",
      "       Ramarao\n"
     ]
    }
   ],
   "source": [
    "print(\"hello world \\nthis is     \\n       Ramarao\")"
   ]
  },
  {
   "cell_type": "markdown",
   "metadata": {},
   "source": [
    "BACK SLASH TO CREATE THE \"\"SPACE\"\" BETWEEN OUTPUT[\\t]:-It is used to create the space between the output as below\n"
   ]
  },
  {
   "cell_type": "code",
   "execution_count": 5,
   "metadata": {},
   "outputs": [
    {
     "name": "stdout",
     "output_type": "stream",
     "text": [
      "Ramarao\tdonipudi\n",
      "Ramarao     \t  donipudi\n"
     ]
    }
   ],
   "source": [
    "print(\"Ramarao\\tdonipudi\") \n",
    "print(\"Ramarao     \\t  donipudi\")"
   ]
  },
  {
   "cell_type": "markdown",
   "metadata": {},
   "source": [
    "SIMILAR QUOTES FIGHTS:-when string is decorated(coded) with similar quotes i.e.,{' ' ' or \" \" \" }{' ' ' ' or \" \" \" \"}gives an error as below as because it is interrupted with the quote paced next to it and closes the quotation.\n"
   ]
  },
  {
   "cell_type": "code",
   "execution_count": 9,
   "metadata": {},
   "outputs": [
    {
     "ename": "SyntaxError",
     "evalue": "invalid syntax (<ipython-input-9-4eb5512f9070>, line 1)",
     "output_type": "error",
     "traceback": [
      "\u001b[1;36m  File \u001b[1;32m\"<ipython-input-9-4eb5512f9070>\"\u001b[1;36m, line \u001b[1;32m1\u001b[0m\n\u001b[1;33m    print('monty python's flying circus')\u001b[0m\n\u001b[1;37m                        ^\u001b[0m\n\u001b[1;31mSyntaxError\u001b[0m\u001b[1;31m:\u001b[0m invalid syntax\n"
     ]
    }
   ],
   "source": [
    "print('monty python's flying circus')\n",
    "print(\"monty python\"s flying circus\")\n",
    "      \n",
    "print('monty python's flying' circus')\n",
    "print(\"monty \"python\"s flying circus\")\n",
    "\n",
    "      \n"
   ]
  },
  {
   "cell_type": "markdown",
   "metadata": {},
   "source": [
    "VARIABLE:\n",
    "Variables are nothing but reserved memory locations to store values. This means that when you create a variable you reserve some space in memory.\n",
    "\n",
    "Based on the data type of a variable, the interpreter allocates memory and decides what can be stored in the reserved memory.\n",
    "\n"
   ]
  },
  {
   "cell_type": "markdown",
   "metadata": {},
   "source": [
    "RULES TO DEFINE VARIABLE:-"
   ]
  },
  {
   "cell_type": "markdown",
   "metadata": {},
   "source": [
    "A variable name must start with a letter or the underscore character\n",
    "A variable name cannot start with a number\n",
    "A variable name can only contain alpha-numeric characters and underscores (A-z, 0-9, and _ )\n",
    "Variable names are case-sensitive (age, Age and AGE are three different variables)"
   ]
  },
  {
   "cell_type": "code",
   "execution_count": 10,
   "metadata": {},
   "outputs": [
    {
     "data": {
      "text/plain": [
       "True"
      ]
     },
     "execution_count": 10,
     "metadata": {},
     "output_type": "execute_result"
    }
   ],
   "source": [
    "A=5\n",
    "B=5\n",
    "A==B"
   ]
  },
  {
   "cell_type": "markdown",
   "metadata": {},
   "source": [
    "OPERATORS\n"
   ]
  },
  {
   "cell_type": "markdown",
   "metadata": {},
   "source": [
    "Python Arithmetic Operators:-\n",
    "Arithmetic operators are used with numeric values to perform common mathematical operations:\n",
    "Operator      Name             Examples    \n",
    "  +         Addition            x + y       \n",
    "  -         Subtraction         x - y   \n",
    "  *         Multiplication      x * y   \n",
    "  /         Division            x / y   \n",
    "  %         Modulus             x % y   \n",
    "  **        Exponentiation      x ** y  \n",
    "  //        Floor division      x // y"
   ]
  },
  {
   "cell_type": "code",
   "execution_count": null,
   "metadata": {},
   "outputs": [],
   "source": []
  }
 ],
 "metadata": {
  "kernelspec": {
   "display_name": "Python 3",
   "language": "python",
   "name": "python3"
  },
  "language_info": {
   "codemirror_mode": {
    "name": "ipython",
    "version": 3
   },
   "file_extension": ".py",
   "mimetype": "text/x-python",
   "name": "python",
   "nbconvert_exporter": "python",
   "pygments_lexer": "ipython3",
   "version": "3.7.6"
  }
 },
 "nbformat": 4,
 "nbformat_minor": 4
}
